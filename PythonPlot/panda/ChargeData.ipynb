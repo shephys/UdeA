{
 "cells": [
  {
   "cell_type": "code",
   "execution_count": null,
   "metadata": {},
   "outputs": [],
   "source": [
    "import math as m\n",
    "import numpy as np\n",
    "import matplotlib.pyplot as plt\n",
    "import pandas as pd\n",
    "\n",
    "from pandas import ExcelWriter\n",
    "from pandas import ExcelFile\n",
    "from datetime import datetime\n",
    "\n",
    "Table = pd.read_csv(\"example.csv\")\n",
    "dictemp = {'col1' : [1., 2., 3., 4.],'col2' : [4., 3., 2., 1.]}\n",
    "data = pd.DataFrame(dictemp)"
   ]
  },
  {
   "cell_type": "code",
   "execution_count": null,
   "metadata": {},
   "outputs": [],
   "source": [
    "#Atributos\n",
    "Table.values\n",
    "Table.index\n",
    "Table.columns\n",
    "data.values\n",
    "data.index\n",
    "data.columns\n",
    "\n",
    "data_tmp = data.copy()\n",
    "data_tmp[\"tmp\"] = [1, 2, 3,4]\n",
    "data_tmp"
   ]
  },
  {
   "cell_type": "code",
   "execution_count": null,
   "metadata": {},
   "outputs": [],
   "source": [
    "Table_fem_old=Table[(Table[\"SEXO\"]==\"F\") & (Table[\"EDAD\"]>60)]\n",
    "Table_fem_old=Table_fem_old.drop(labels=\"SEXO\", axis=1)\n",
    "Table_fem_old.reset_index()\n",
    "Table_fem_old.notnull().all()\n",
    "Table_fem_old[\"PROFESION\"].notnull()\n",
    "#Table_fem_old.fillna(df.mean())\n",
    "#Table_fem_old.dropna(subset=[\"PROFESION\"])"
   ]
  },
  {
   "cell_type": "code",
   "execution_count": null,
   "metadata": {},
   "outputs": [],
   "source": [
    "temp=Table_fem_old.groupby([\"PROVINCIA\"], as_index=False)[\"DOCUMENTOIDENT\"].count()\n",
    "label_list=temp[\"PROVINCIA\"].values\n",
    "x_list=temp[\"DOCUMENTOIDENT\"].values\n",
    "plt.figure(figsize=(12, 10)) \n",
    "plt.axis(\"equal\")\n",
    "explode = np.ones(label_list.shape)*0.1  # explode 1st slice\n",
    "\n",
    "plt.pie(\n",
    "            x_list,\n",
    "            #labels=label_list,\n",
    "            autopct=\"%.2f%%\",\n",
    "            explode=explode\n",
    ")\n",
    "plt.legend(label_list, loc=\"best\")\n",
    "plt.title(\"Provincias\")\n",
    "plt.show()\n",
    "#plt.savefig(home+'/DATATON/Image/totclientes1'+m+'.pdf')"
   ]
  },
  {
   "cell_type": "code",
   "execution_count": null,
   "metadata": {},
   "outputs": [],
   "source": [
    "datos = [[1, 2, 3, 4], [3, 5, 3, 5], [8, 6, 4, 2]]\n",
    "X = np.arange(4)\n",
    "plt.bar(X + 0.00, datos[0], color = \"b\", width = 0.25)\n",
    "plt.bar(X + 0.25, datos[1], color = \"g\", width = 0.25)\n",
    "plt.bar(X + 0.50, datos[2], color = \"r\", width = 0.25)\n",
    "plt.xticks(X+0.38, [\"A\",\"B\",\"C\",\"D\"])"
   ]
  },
  {
   "cell_type": "code",
   "execution_count": null,
   "metadata": {},
   "outputs": [],
   "source": []
  }
 ],
 "metadata": {
  "kernelspec": {
   "display_name": "Python 3",
   "language": "python",
   "name": "python3"
  },
  "language_info": {
   "codemirror_mode": {
    "name": "ipython",
    "version": 3
   },
   "file_extension": ".py",
   "mimetype": "text/x-python",
   "name": "python",
   "nbconvert_exporter": "python",
   "pygments_lexer": "ipython3",
   "version": "3.6.4"
  }
 },
 "nbformat": 4,
 "nbformat_minor": 2
}
